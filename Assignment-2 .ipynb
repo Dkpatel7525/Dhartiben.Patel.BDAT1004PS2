{
 "cells": [
  {
   "cell_type": "markdown",
   "id": "b550e768-bdf1-400b-b809-d774c8325707",
   "metadata": {},
   "source": [
    "\n",
    "QUESTION 1\n"
   ]
  },
  {
   "cell_type": "code",
   "execution_count": 1,
   "id": "e738cf52-120d-4b1a-bce6-4baa2a3b6324",
   "metadata": {},
   "outputs": [
    {
     "data": {
      "text/plain": [
       "6"
      ]
     },
     "execution_count": 1,
     "metadata": {},
     "output_type": "execute_result"
    }
   ],
   "source": [
    "a = 0\n",
    "def b():\n",
    "    global a\n",
    "    a = c(a)\n",
    "    \n",
    "def c(a):\n",
    "    return a + 2 \n",
    "\n",
    "b()\n",
    "b()\n",
    "b()\n",
    "a"
   ]
  },
  {
   "cell_type": "markdown",
   "id": "b8e243ed-fa95-4bf8-adbd-b89f32df1605",
   "metadata": {},
   "source": [
    "Explaination\n",
    "\n",
    "1.Here in 1st step a is initialized to 0.\n",
    "2.Then we defined function called b().\n",
    "3.Then we defined global a which indicate as 'a' is global variable which means it can be access by any class and perform the operation.\n",
    "4.In the first call of b(),Inside b(), the line a = c(a) is executed. This calls the function c(a) with the current    value of a (which is 0), adds 2 to it, and returns the result as 2. This value is then assigned to the global     variable a. So now a is 2.\n",
    "5.Now in the second call of b(),the line a = c(a) is executed but the fuction c(a) get the current value which is 2,add   2 to it{2+2=4} so now we have a value of 'a' is 4.\n",
    "6.In the 3rd call of b() with the same processor we get the value of a=6.\n"
   ]
  },
  {
   "cell_type": "markdown",
   "id": "c73b1ca6-c440-4936-884c-2826748ed8f9",
   "metadata": {},
   "source": [
    "\n",
    "QUESTION 2\n"
   ]
  },
  {
   "cell_type": "code",
   "execution_count": 9,
   "id": "bc3c64cc-6402-494e-988d-5862278413d0",
   "metadata": {},
   "outputs": [
    {
     "name": "stdout",
     "output_type": "stream",
     "text": [
      "File idterm.py not found.\n"
     ]
    },
    {
     "data": {
      "text/plain": [
       "5346"
      ]
     },
     "execution_count": 9,
     "metadata": {},
     "output_type": "execute_result"
    }
   ],
   "source": [
    "def file_length(file_name):\n",
    "    try:\n",
    "                                       \n",
    "        infile = open(file_name)\n",
    "        contents = infile.read()\n",
    "        infile.close()\n",
    "        return len(contents)\n",
    "    except:\n",
    "        print(\"File \" + file_name + \" not found.\")\n",
    "    \n",
    "\n",
    "file_length(\"idterm.py\")\n",
    "file_length(\"words.txt\")"
   ]
  },
  {
   "cell_type": "markdown",
   "id": "92804a9d-f56a-4174-9dfa-f863ae5f4d77",
   "metadata": {},
   "source": [
    "\n",
    "QUESTION 3\n"
   ]
  },
  {
   "cell_type": "code",
   "execution_count": 3,
   "id": "bd6b1a52-c6a7-4fe1-985d-110200a4e844",
   "metadata": {},
   "outputs": [
    {
     "name": "stdout",
     "output_type": "stream",
     "text": [
      "I am a Kangaroo located at coordinates (0,0)\n",
      "['doll', 'firetruck', 'kitten']\n",
      "I am a Kangaroo located at coordinates (3,0)\n"
     ]
    }
   ],
   "source": [
    "class Marsupial:               #defined class Marsupial\n",
    "   \n",
    "    ABC = []\n",
    "    \n",
    "    def put_in_pouch(self, item):\n",
    "        self.ABC.append(item)\n",
    "        \n",
    "    def pouch_contents(self):\n",
    "        print(self.ABC)\n",
    "        \n",
    "    \n",
    "class Kangaroo(Marsupial):     #subclass\n",
    "   \n",
    "    def __init__(self, x, y):  #extends the Marsupial __init__ \n",
    "        self.x = x\n",
    "        self.y = y\n",
    "        \n",
    "    def jump(self, dx, dy):    # used jump\n",
    "        self.x+= dx\n",
    "        self.y+= dy\n",
    "        \n",
    "    def __str__(self):        # overloads __str__\n",
    "         return f\"I am a Kangaroo located at coordinates ({self.x},{self.y})\"\n",
    "\n",
    "        \n",
    "        \n",
    "A=Kangaroo(0,0)\n",
    "print(A)\n",
    "A.put_in_pouch('doll')\n",
    "A.put_in_pouch('firetruck')\n",
    "A.put_in_pouch('kitten')\n",
    "A.pouch_contents()\n",
    "A.jump(1,0)\n",
    "A.jump(1,0)\n",
    "A.jump(1,0)\n",
    "print(A)"
   ]
  },
  {
   "cell_type": "markdown",
   "id": "4c11a47c-e2bd-4639-91ca-810046e2110f",
   "metadata": {},
   "source": [
    "\n",
    "QUESTION 4\n"
   ]
  },
  {
   "cell_type": "code",
   "execution_count": 12,
   "id": "e3567fd9-a774-497a-ac30-8b0392c76e7f",
   "metadata": {},
   "outputs": [
    {
     "name": "stdin",
     "output_type": "stream",
     "text": [
      "enter num: 10\n"
     ]
    },
    {
     "name": "stdout",
     "output_type": "stream",
     "text": [
      "10\n",
      "5\n",
      "16\n",
      "8\n",
      "4\n",
      "2\n",
      "1\n"
     ]
    },
    {
     "name": "stdin",
     "output_type": "stream",
     "text": [
      "enter num: 1\n"
     ]
    },
    {
     "name": "stdout",
     "output_type": "stream",
     "text": [
      "1\n"
     ]
    }
   ],
   "source": [
    "def collatz(x):\n",
    "    print(x)\n",
    "    while x != 1:\n",
    "        \n",
    "        if x % 2 == 0:\n",
    "            x = x // 2\n",
    "        else:\n",
    "            x = 3*x + 1\n",
    "        print(x)\n",
    "n1 = int(input(\"enter num:\"))\n",
    "collatz(n1)\n",
    "n2 = int(input(\"enter num:\"))\n",
    "collatz(n2)"
   ]
  },
  {
   "cell_type": "markdown",
   "id": "06dfa454-0ade-4d56-a415-902d420b3972",
   "metadata": {},
   "source": [
    "\n",
    "QUESTION 5\n"
   ]
  },
  {
   "cell_type": "code",
   "execution_count": 6,
   "id": "ee040f6d-a8e4-4d78-ae5a-46bbc6fffec1",
   "metadata": {},
   "outputs": [
    {
     "name": "stdin",
     "output_type": "stream",
     "text": [
      "Enter a number :  10\n"
     ]
    },
    {
     "data": {
      "text/plain": [
       "'1010'"
      ]
     },
     "execution_count": 6,
     "metadata": {},
     "output_type": "execute_result"
    }
   ],
   "source": [
    "def binary(n):\n",
    "    if n == 0:\n",
    "        return  '0'\n",
    "    elif n == 1:\n",
    "        return  '1'\n",
    "    else:\n",
    "        return binary(n // 2) + str(n % 2)\n",
    "n = int(input(\"Enter a number : \"))\n",
    "binary(n)"
   ]
  },
  {
   "cell_type": "markdown",
   "id": "4fe58c4a-6bf9-4912-ad94-c796c6486419",
   "metadata": {},
   "source": [
    "\n",
    "QUESTION 6\n"
   ]
  },
  {
   "cell_type": "code",
   "execution_count": 17,
   "id": "7816a01b-ca9c-47d6-a044-3787d970ac7e",
   "metadata": {},
   "outputs": [
    {
     "name": "stdout",
     "output_type": "stream",
     "text": [
      "\n",
      " \n",
      " \n",
      " \n",
      " Change_me\n",
      " \n",
      " \n",
      " \n",
      " \n",
      "\n",
      "\n",
      " W3C Mission\n",
      "\n",
      " Principles\n",
      "\n",
      "\n"
     ]
    }
   ],
   "source": [
    "from html.parser import HTMLParser\n",
    "\n",
    "class HeadingParser(HTMLParser):    \n",
    "    def __init__(self):\n",
    "        super().__init__()\n",
    "        self.ABC = []\n",
    "\n",
    "    def handle_starttag(self, x, y): \n",
    "        if x.startswith('h'):\n",
    "            self.ABC.append(x)   \n",
    "\n",
    "    def handle_data(self, D):     \n",
    "        if self.ABC:   \n",
    "            print(' ' * (len(self.ABC) - 1)  + D.strip()) \n",
    "\n",
    "    def handle_endtag(self, x):\n",
    "        if x.startswith('h'):\n",
    "            self.ABC.pop()\n",
    "    def print_headings(self):\n",
    "        for level,heading in self.ABC:\n",
    "            print(''*level+heading)\n",
    "\n",
    "File = open('w3c.html')\n",
    "content = File.read()\n",
    "hp= HeadingParser()\n",
    "File.close()\n",
    "hp.feed(content)\n",
    "hp.print_headings()"
   ]
  },
  {
   "cell_type": "markdown",
   "id": "cc7100a6-da9a-41b2-8791-f46661c3ec1d",
   "metadata": {},
   "source": [
    "\n",
    "QUESTION 7\n"
   ]
  },
  {
   "cell_type": "code",
   "execution_count": 2,
   "id": "04e41a01-2f90-425e-b58f-bff636c921df",
   "metadata": {},
   "outputs": [],
   "source": [
    "from urllib.parse import urljoin\n",
    "from html.parser import HTMLParser\n",
    "from urllib.request import urlopen\n",
    "\n",
    "class Collector(HTMLParser):\n",
    "    def __init__(self, url):\n",
    "        HTMLParser.__init__(self)\n",
    "        self.url = url\n",
    "        self.links = []    \n",
    "    def handle_starttag(self, tag, attrs):\n",
    "        if tag == 'a':\n",
    "            for at in attrs:\n",
    "                if at[0] == 'href':\n",
    "                        url= urljoin(self.url, at[1])\n",
    "                if url[:4] == 'http': \n",
    "                         self.links.append(url)                     \n",
    "    def getLinks(self):\n",
    "        return self.links\n",
    "def webdir(url,depth,indent):\n",
    "    if(depth<0):\n",
    "        return\n",
    "    try:\n",
    "        response = urlopen(url)\n",
    "    except:\n",
    "        return\n",
    " \n",
    "    collector = Collector(url)  \n",
    "    collector.feed(response.read().decode())\n",
    "    print(\"    \"*indent +url)\n",
    "       \n",
    "    for link in collector.getLinks():\n",
    "        webdir(link,depth-1,indent+1)"
   ]
  },
  {
   "cell_type": "code",
   "execution_count": 3,
   "id": "dcafba07-3956-4bc8-bbb9-89aa280ef751",
   "metadata": {},
   "outputs": [
    {
     "name": "stdout",
     "output_type": "stream",
     "text": [
      "https://reed.cs.depaul.edu/lperkovic/test1.html\n",
      "    http://reed.cs.depaul.edu/lperkovic/test2.html\n",
      "        http://reed.cs.depaul.edu/lperkovic/test4.html\n",
      "    https://reed.cs.depaul.edu/lperkovic/test3.html\n",
      "        https://reed.cs.depaul.edu/lperkovic/test4.html\n"
     ]
    }
   ],
   "source": [
    "webdir(\"https://reed.cs.depaul.edu/lperkovic/test1.html\",2,0)"
   ]
  },
  {
   "cell_type": "markdown",
   "id": "ee701368-ab6e-40ce-8698-1a94af1205d3",
   "metadata": {},
   "source": [
    "\n",
    "QUESTION 8\n"
   ]
  },
  {
   "cell_type": "code",
   "execution_count": 18,
   "id": "d1835b31-ea25-4d91-822d-f6cb20c83767",
   "metadata": {},
   "outputs": [],
   "source": [
    "import sqlite3                    \n",
    "X=sqlite3.connect(\"DKPATEL.db\")               # Connect to the database (create it if it doesn't exist)\n",
    "Y = X.cursor()\n",
    "Y.execute(\"CREATE TABLE IF NOT EXISTS mytable(city text, country text, season text, temperature double, rainfall double)\")\n",
    "                                               # Create a table\n",
    "\n",
    "Y.execute(\"INSERT INTO mytable VALUES ('Mumbai','India','Winter',24.8 ,5.9)\")           # Insert some data into the table\n",
    "Y.execute(\"INSERT INTO mytable VALUES ('Mumbai','India','Spring',28.4 ,16.2)\")\n",
    "Y.execute(\"INSERT INTO mytable VALUES ('Mumbai','India','Summer',27.9 ,1549.4)\")\n",
    "Y.execute(\"INSERT INTO mytable VALUES ('Mumbai','India','Fall', 27.6 ,346.0)\")\n",
    "Y.execute(\"INSERT INTO mytable VALUES ('London','United Kingdom','Winter',4.2 ,207.7)\")\n",
    "Y.execute(\"INSERT INTO mytable VALUES ('London','United Kingdom','Spring',8.3 ,169.6)\")\n",
    "Y.execute(\"INSERT INTO mytable VALUES ('London','United Kingdom', 'Summer',15.7 ,157.0)\")\n",
    "Y.execute(\"INSERT INTO mytable VALUES ('London','United Kingdom','Fall',10.4 ,218.5)\")\n",
    "Y.execute(\"INSERT INTO mytable VALUES ('Cairo', 'Egypt', 'Fall', 22.2 ,4.5)\")\n",
    "Y.execute(\"INSERT INTO mytable VALUES ('Cairo', 'Egypt', 'Winter', 13.6 ,16.5)\")\n",
    "Y.execute(\"INSERT INTO mytable VALUES ('Cairo', 'Egypt', 'Spring', 20.5 ,6.5)\")\n",
    "Y.execute(\"INSERT INTO mytable VALUES ('Cairo', 'Egypt', 'Summer', 27.7 ,0.1)\")\n",
    "X.commit()                             # Commit the changes\n"
   ]
  },
  {
   "cell_type": "code",
   "execution_count": 19,
   "id": "ff40accd-c944-43e0-9485-28948a553f8b",
   "metadata": {},
   "outputs": [
    {
     "name": "stdout",
     "output_type": "stream",
     "text": [
      "('Mumbai', 'India', 'Winter', 24.8, 5.9)\n",
      "('Mumbai', 'India', 'Spring', 28.4, 16.2)\n",
      "('Mumbai', 'India', 'Summer', 27.9, 1549.4)\n",
      "('Mumbai', 'India', 'Fall', 27.6, 346.0)\n",
      "('London', 'United Kingdom', 'Winter', 4.2, 207.7)\n",
      "('London', 'United Kingdom', 'Spring', 8.3, 169.6)\n",
      "('London', 'United Kingdom', 'Summer', 15.7, 157.0)\n",
      "('London', 'United Kingdom', 'Fall', 10.4, 218.5)\n",
      "('Cairo', 'Egypt', 'Fall', 22.2, 4.5)\n",
      "('Cairo', 'Egypt', 'Winter', 13.6, 16.5)\n",
      "('Cairo', 'Egypt', 'Spring', 20.5, 6.5)\n",
      "('Cairo', 'Egypt', 'Summer', 27.7, 0.1)\n"
     ]
    }
   ],
   "source": [
    "### a) All the temperature data.###\n",
    "\n",
    "Y.execute(\"SELECT * from mytable\")\n",
    "\n",
    "for record in Y:\n",
    "    print(record)"
   ]
  },
  {
   "cell_type": "code",
   "execution_count": 29,
   "id": "966f50c9-509a-418b-9d4f-f2ccfc40071e",
   "metadata": {},
   "outputs": [
    {
     "name": "stdout",
     "output_type": "stream",
     "text": [
      "Mumbai\n",
      "London\n",
      "Cairo\n"
     ]
    }
   ],
   "source": [
    "### b) All the cities, but without repetition.###\n",
    "\n",
    "Y.execute(\"SELECT DISTINCT city FROM mytable\")\n",
    "\n",
    "for record in Y:\n",
    "    print(record[0])"
   ]
  },
  {
   "cell_type": "code",
   "execution_count": 21,
   "id": "0a6ed775-0580-4e24-b832-40c5fbb4fb8c",
   "metadata": {},
   "outputs": [
    {
     "name": "stdout",
     "output_type": "stream",
     "text": [
      "('Mumbai', 'India', 'Winter', 24.8, 5.9)\n",
      "('Mumbai', 'India', 'Spring', 28.4, 16.2)\n",
      "('Mumbai', 'India', 'Summer', 27.9, 1549.4)\n",
      "('Mumbai', 'India', 'Fall', 27.6, 346.0)\n"
     ]
    }
   ],
   "source": [
    "### c) All the records for India.###\n",
    "\n",
    "Y.execute(\"SELECT * FROM mytable WHERE Country = 'India'\")\n",
    "\n",
    "for record in Y:\n",
    "    print(record)"
   ]
  },
  {
   "cell_type": "code",
   "execution_count": 22,
   "id": "7124781c-d5ba-47ec-9283-876035dbafb2",
   "metadata": {},
   "outputs": [
    {
     "name": "stdout",
     "output_type": "stream",
     "text": [
      "('Mumbai', 'India', 'Fall', 27.6, 346.0)\n",
      "('London', 'United Kingdom', 'Fall', 10.4, 218.5)\n",
      "('Cairo', 'Egypt', 'Fall', 22.2, 4.5)\n"
     ]
    }
   ],
   "source": [
    "### d) All the Fall records.###\n",
    "\n",
    "Y.execute(\"SELECT * FROM mytable WHERE Season = 'Fall'\")\n",
    "\n",
    "for record in Y:\n",
    "    print(record)"
   ]
  },
  {
   "cell_type": "code",
   "execution_count": 14,
   "id": "6a3f145f-398b-40f5-9cd2-48e96222cf5f",
   "metadata": {},
   "outputs": [
    {
     "name": "stdout",
     "output_type": "stream",
     "text": [
      "('London', 'United Kingdom', 'Fall')\n",
      "('London', 'United Kingdom', 'Winter')\n",
      "('Mumbai', 'India', 'Fall')\n"
     ]
    }
   ],
   "source": [
    "### e) The city, country, and season for which the average rainfall is between 200 and 400 millimeters.###\n",
    "\n",
    "Y.execute(\"SELECT city, country, season FROM mytable Group by city, country, season  having AVG(rainfall) BETWEEN 200 AND 400\")\n",
    "\n",
    "for record in Y:\n",
    "    print(record)"
   ]
  },
  {
   "cell_type": "code",
   "execution_count": 24,
   "id": "bcaa3abf-6c2a-480d-8aed-44890956690c",
   "metadata": {},
   "outputs": [
    {
     "name": "stdout",
     "output_type": "stream",
     "text": [
      "27.6\n"
     ]
    }
   ],
   "source": [
    "### f) The city and country for which the average Fall temperature is above 20 degrees, in increasing temperature order.###\n",
    "\n",
    "Y.execute(\"SELECT SUM(rainfall) AS total_rainfall FROM mytable where City = 'Cairo' \")\n",
    "\n",
    "for record in Y:\n",
    "    print(record[0])"
   ]
  },
  {
   "cell_type": "code",
   "execution_count": 25,
   "id": "0b81127f-5105-4f39-a742-b481d037bacb",
   "metadata": {},
   "outputs": [
    {
     "name": "stdout",
     "output_type": "stream",
     "text": [
      "569.0\n",
      "192.29999999999998\n",
      "1706.5\n",
      "230.1\n"
     ]
    }
   ],
   "source": [
    "### g) The total annual rainfall for Cairo.###\n",
    "\n",
    "Y.execute(\"SELECT SUM(Rainfall) FROM mytable GROUP BY Season\")\n",
    "\n",
    "for record in Y:\n",
    "    print(record[0])"
   ]
  },
  {
   "cell_type": "code",
   "execution_count": 26,
   "id": "aa66226b-628d-4e7c-9919-3f9f1153065a",
   "metadata": {},
   "outputs": [
    {
     "name": "stdout",
     "output_type": "stream",
     "text": [
      "569.0\n",
      "192.29999999999998\n",
      "1706.5\n",
      "230.1\n"
     ]
    }
   ],
   "source": [
    "### h) The total rainfall for each season.###\n",
    "\n",
    "Y.execute(\"SELECT SUM(rainfall) AS total_rainfall FROM mytable GROUP BY season\")\n",
    "\n",
    "for record in Y:\n",
    "    print(record[0])"
   ]
  },
  {
   "cell_type": "markdown",
   "id": "5171c7ee-9943-4675-a658-55a80bc827ab",
   "metadata": {},
   "source": [
    "\n",
    "QUESTION 9\n"
   ]
  },
  {
   "cell_type": "code",
   "execution_count": 28,
   "id": "9c7ada36-3a25-4e57-aba3-e5a754f05d3c",
   "metadata": {},
   "outputs": [
    {
     "name": "stdout",
     "output_type": "stream",
     "text": [
      "['THE', 'QUICK', 'BROWN', 'FOX', 'JUMPS', 'OVER', 'THE', 'LAZY', 'DOG'] \n",
      "\n",
      "\n",
      "['the', 'quick', 'brown', 'fox', 'jumps', 'over', 'the', 'lazy', 'dog'] \n",
      "\n",
      "\n",
      "[3, 5, 5, 3, 5, 4, 3, 4, 3] \n",
      "\n",
      "\n",
      "[['THE', 'the', 3], ['QUICK', 'quick', 5], ['BROWN', 'brown', 5], ['FOX', 'fox', 3], ['JUMPS', 'jumps', 5], ['OVER', 'over', 4], ['THE', 'the', 3], ['LAZY', 'lazy', 4], ['DOG', 'dog', 3]] \n",
      "\n",
      "\n",
      "['quick', 'brown', 'jumps', 'over', 'lazy'] \n",
      "\n",
      "\n"
     ]
    }
   ],
   "source": [
    "words = ['The', 'quick', 'brown', 'fox', 'jumps', 'over', 'the', 'lazy', 'dog']\n",
    "##    a   ##\n",
    "upper_word = [word.upper() for word in words]\n",
    "##    b   ##\n",
    "lower_word = [word.lower() for word in words]\n",
    "##    c   ##\n",
    "word_length = [len(word) for word in words]\n",
    "##    d   ##\n",
    "word_infolist = [[word.upper(), word.lower(), len(word)] for word in words]\n",
    "##    e   ##\n",
    "long_words = [word for word in words if len(word) >= 4]\n",
    "\n",
    "print(upper_word,\"\\n\\n\")\n",
    "print(lower_word,\"\\n\\n\")\n",
    "print(word_length,\"\\n\\n\")\n",
    "print(word_infolist,\"\\n\\n\")\n",
    "print(long_words,\"\\n\\n\")"
   ]
  },
  {
   "cell_type": "code",
   "execution_count": null,
   "id": "806fbbc5-21e3-4922-a7a7-e1e481d80925",
   "metadata": {},
   "outputs": [],
   "source": []
  }
 ],
 "metadata": {
  "kernelspec": {
   "display_name": "Python 3 (ipykernel)",
   "language": "python",
   "name": "python3"
  },
  "language_info": {
   "codemirror_mode": {
    "name": "ipython",
    "version": 3
   },
   "file_extension": ".py",
   "mimetype": "text/x-python",
   "name": "python",
   "nbconvert_exporter": "python",
   "pygments_lexer": "ipython3",
   "version": "3.9.13"
  }
 },
 "nbformat": 4,
 "nbformat_minor": 5
}
